{
 "cells": [
  {
   "cell_type": "code",
   "execution_count": 15,
   "metadata": {},
   "outputs": [
    {
     "name": "stdout",
     "output_type": "stream",
     "text": [
      "Hvor mange grunnstoffer opptrer i reaksjonen?:\n",
      "2\n",
      "Hvor mange stoffer opptrer i reaksjonen?:\n",
      "3\n",
      "Hvor mange atomer av grunnstoff nr 1 opptrer i stoff nr 1?:\n",
      "1\n",
      "Hvor mange atomer av grunnstoff nr 2 opptrer i stoff nr 1?:\n",
      "0\n",
      "Hvor mange atomer av grunnstoff nr 1 opptrer i stoff nr 2?:\n",
      "0\n",
      "Hvor mange atomer av grunnstoff nr 2 opptrer i stoff nr 2?:\n",
      "2\n",
      "Hvor mange atomer av grunnstoff nr 1 opptrer i stoff nr 3?:\n",
      "-1\n",
      "Hvor mange atomer av grunnstoff nr 2 opptrer i stoff nr 3?:\n",
      "-3\n",
      "[[1. ]\n",
      " [1.5]\n",
      " [1. ]]\n"
     ]
    }
   ],
   "source": [
    "import numpy as np\n",
    "from scipy.linalg import null_space\n",
    "\n",
    "rows = int(input(\"Hvor mange grunnstoffer opptrer i reaksjonen?:\\n\")) \n",
    "cols = int(input(\"Hvor mange stoffer opptrer i reaksjonen?:\\n\")) \n",
    "mat = np.zeros([rows, cols]) \n",
    "nul = np.zeros(cols)\n",
    "\n",
    "for i in range(cols): \n",
    "    for j in range(rows): mat[j,i] = int(input(f'Hvor mange atomer av grunnstoff nr {j+1} opptrer i stoff nr {i+1}?:\\n')) \n",
    "sol = null_space(mat)\n",
    "sol *= 1/np.amin(sol)\n",
    "print(sol)"
   ]
  }
 ],
 "metadata": {
  "kernelspec": {
   "display_name": "Python 3",
   "language": "python",
   "name": "python3"
  },
  "language_info": {
   "codemirror_mode": {
    "name": "ipython",
    "version": 3
   },
   "file_extension": ".py",
   "mimetype": "text/x-python",
   "name": "python",
   "nbconvert_exporter": "python",
   "pygments_lexer": "ipython3",
   "version": "3.7.4"
  }
 },
 "nbformat": 4,
 "nbformat_minor": 2
}
