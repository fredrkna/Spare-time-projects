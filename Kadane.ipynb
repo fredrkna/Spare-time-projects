{
 "cells": [
  {
   "cell_type": "code",
   "execution_count": 1,
   "metadata": {},
   "outputs": [],
   "source": [
    "import numpy as np\n",
    "from numba import jit, prange\n",
    "from time import *"
   ]
  },
  {
   "cell_type": "code",
   "execution_count": 18,
   "metadata": {},
   "outputs": [],
   "source": [
    "def Kadene_extended(Arr):\n",
    "    ind0_starting_here = 0\n",
    "    ind0_max_so_far = 0\n",
    "    L = 0\n",
    "    max_so_far = Arr[0]\n",
    "    max_ending_here = 0\n",
    "    \n",
    "    for i in range(len(Arr)):\n",
    "        max_ending_here += Arr[i]\n",
    "        if max_ending_here < 0:\n",
    "            max_ending_here = 0\n",
    "            ind0_starting_here = i + 1\n",
    "            \n",
    "        elif max_so_far < max_ending_here:\n",
    "            max_so_far = max_ending_here\n",
    "            ind0_max_so_far = ind0_starting_here\n",
    "            L = i + 1 - ind0_max_so_far\n",
    "            \n",
    "        elif max_so_far == max_ending_here:\n",
    "            if i + 1 - ind0_starting_here > L:\n",
    "                ind0_max_so_far = ind0_starting_here\n",
    "                L = i + 1 - ind0_max_so_far\n",
    "                \n",
    "    if max_so_far > 0:\n",
    "        return max_so_far, Arr[ind0_max_so_far:ind0_max_so_far + L]\n",
    "    else:\n",
    "        return 0, []"
   ]
  },
  {
   "cell_type": "code",
   "execution_count": 22,
   "metadata": {},
   "outputs": [],
   "source": [
    "@jit(nopython = True)\n",
    "def Kadane_numba(Arr):\n",
    "\n",
    "    ind0_starting_here = 0\n",
    "    ind0_max_so_far = 0\n",
    "    L = 0\n",
    "    max_so_far = Arr[0]\n",
    "    max_ending_here = 0\n",
    "    \n",
    "    for i in range(len(Arr)):\n",
    "        max_ending_here += Arr[i]\n",
    "        if max_ending_here < 0:\n",
    "            max_ending_here = 0\n",
    "            ind0_starting_here = i + 1\n",
    "            \n",
    "        elif max_so_far < max_ending_here:\n",
    "            max_so_far = max_ending_here\n",
    "            ind0_max_so_far = ind0_starting_here\n",
    "            L = i + 1 - ind0_max_so_far\n",
    "            \n",
    "        elif max_so_far == max_ending_here:\n",
    "            if i + 1 - ind0_starting_here > L:\n",
    "                ind0_max_so_far = ind0_starting_here\n",
    "                L = i + 1 - ind0_max_so_far\n",
    "                \n",
    "    if max_so_far > 0:\n",
    "        return max_so_far, Arr[ind0_max_so_far:ind0_max_so_far + L]"
   ]
  },
  {
   "cell_type": "code",
   "execution_count": 38,
   "metadata": {},
   "outputs": [],
   "source": [
    "@jit(nopython = True)\n",
    "def Kadane_job(Arr, N):\n",
    "    if N >= len(Arr):\n",
    "        N = len(Arr)\n",
    "        \n",
    "    ind0_starting_here = 0\n",
    "    ind0_max_so_far = 0\n",
    "    L = 0\n",
    "    max_so_far = Arr[0]\n",
    "    max_ending_here = 0\n",
    "    \n",
    "    for i in range(N):\n",
    "        max_ending_here += Arr[i]\n",
    "        if max_ending_here < 0:\n",
    "            max_ending_here = 0\n",
    "            ind0_starting_here = i + 1\n",
    "            \n",
    "        elif max_so_far < max_ending_here:\n",
    "            max_so_far = max_ending_here\n",
    "            ind0_max_so_far = ind0_starting_here\n",
    "            L = i + 1 - ind0_max_so_far\n",
    "            \n",
    "        elif max_so_far == max_ending_here:\n",
    "            if i + 1 - ind0_starting_here > L:\n",
    "                ind0_max_so_far = ind0_starting_here\n",
    "                L = i + 1 - ind0_max_so_far\n",
    "                \n",
    "    i = N\n",
    "    if i < len(Arr):\n",
    "        max_ending_here += Arr[i]\n",
    "        \n",
    "        while max_ending_here >= 0:\n",
    "\n",
    "            if max_ending_here < 0:\n",
    "                max_ending_here = 0\n",
    "                ind0_starting_here = i + 1\n",
    "\n",
    "            elif max_so_far < max_ending_here:\n",
    "                max_so_far = max_ending_here\n",
    "                ind0_max_so_far = ind0_starting_here\n",
    "                L = i + 1 - ind0_max_so_far\n",
    "\n",
    "            elif max_so_far == max_ending_here:\n",
    "                if i + 1 - ind0_starting_here > L:\n",
    "                    ind0_max_so_far = ind0_starting_here\n",
    "                    L = i + 1 - ind0_max_so_far\n",
    "\n",
    "            i += 1\n",
    "            if i < len(Arr):\n",
    "                max_ending_here += Arr[i]\n",
    "            else:\n",
    "                max_ending_here = -1\n",
    "        \n",
    "    return max_so_far, L, ind0_max_so_far\n",
    "    \n",
    "@jit(nopython = True, parallel = True)\n",
    "def Kadane_parallel(Arr, List, N_cores):\n",
    "    N = len(Arr)//N_cores + 1\n",
    "    Maxs, Ls, Inds = List.copy(), List.copy(), List.copy()\n",
    "    for i in prange(N_cores):\n",
    "        Maxs[i], Ls[i], Inds[i] = Kadene_job(Arr[i*N:], N)\n",
    "\n",
    "    Max = 0\n",
    "    L = 0\n",
    "    ind0 = 0\n",
    "    for i in range(N_cores):\n",
    "        if Maxs[i] > Max:\n",
    "            Max = Maxs[i]\n",
    "            ind0 = Inds[i]\n",
    "            L = Ls[i]\n",
    "            \n",
    "        elif Maxs[i] == Max and Ls[i] > L:\n",
    "            ind0 = Inds[i]\n",
    "            L = Ls[i]\n",
    "            \n",
    "    return Max, Arr[ind0:ind0+L]"
   ]
  },
  {
   "cell_type": "code",
   "execution_count": 48,
   "metadata": {},
   "outputs": [
    {
     "name": "stdout",
     "output_type": "stream",
     "text": [
      "Numba without parallellisation: 7.450134992599487\n",
      "Numba with parallellisation: 0.9979135990142822\n",
      "2197 2197\n",
      "2586 2586\n"
     ]
    }
   ],
   "source": [
    "# List of 4_000_000_000 numbers ranging from -20 to 19\n",
    "numbers = np.random.randint(-20, 20, 4_000_000_000, dtype = np.int8)\n",
    "\n",
    "start = time()\n",
    "a, b = Kadane_numba(numbers)\n",
    "print(\"Numba without parallellisation:\", time() - start)\n",
    "\n",
    "N_cores = 8\n",
    "start = time()\n",
    "c, d = Kadane_parallel(numbers, np.ones(N_cores, dtype = np.int64), N_cores)\n",
    "print(\"Numba with parallellisation:\", time() - start)\n",
    "\n",
    "print(a, c)\n",
    "print(len(b), len(d))"
   ]
  },
  {
   "cell_type": "code",
   "execution_count": 45,
   "metadata": {},
   "outputs": [
    {
     "data": {
      "text/plain": [
       "(7.461928934010152,\n",
       " 6.32258064516129,\n",
       " 6.031645569620253,\n",
       " 7.496,\n",
       " 1.6005665722379603)"
      ]
     },
     "execution_count": 45,
     "metadata": {},
     "output_type": "execute_result"
    }
   ],
   "source": [
    "147/19.7, 784/124, 953/158, 937/125, 565/353"
   ]
  },
  {
   "cell_type": "code",
   "execution_count": 22,
   "metadata": {},
   "outputs": [
    {
     "name": "stdout",
     "output_type": "stream",
     "text": [
      "(201, array([ 20,   0, -19,  15,  12,  15, -13,  11,  18, -15,  17,  15, -14,\n",
      "        -3,   7,  17,  -6,  -1,  -8,  18,  15, -17,   4,  17,  -5,  -9,\n",
      "        18,  15, -14,  16,  13,  -6,   1, -19,  15,   7,  19,  16,  12,\n",
      "        -8,  -1,   7,   1, -20,  14, -20,   7,   7,   4,   6, -17,  13,\n",
      "         9,  -3,  -9,   7,   8, -12,   8,  16]))\n",
      "(201, array([ 20,   0, -19,  15,  12,  15, -13,  11,  18, -15,  17,  15, -14,\n",
      "        -3,   7,  17,  -6,  -1,  -8,  18,  15, -17,   4,  17,  -5,  -9,\n",
      "        18,  15, -14,  16,  13,  -6,   1, -19,  15,   7,  19,  16,  12,\n",
      "        -8,  -1,   7,   1, -20,  14, -20,   7,   7,   4,   6, -17,  13,\n",
      "         9,  -3,  -9,   7,   8, -12,   8,  16]))\n"
     ]
    }
   ],
   "source": [
    "numbers = np.random.randint(-20, 21, 100)\n",
    "\n",
    "print(Kadene_parallel(numbers, np.ones(8, dtype = np.int64), 8))\n",
    "print(Kadene_extended(numbers))\n",
    "\n"
   ]
  },
  {
   "cell_type": "code",
   "execution_count": 13,
   "metadata": {},
   "outputs": [
    {
     "data": {
      "text/plain": [
       "array([  9,   9,   4,   4,  16,   7, -18, -17,  17, -16], dtype=int8)"
      ]
     },
     "execution_count": 13,
     "metadata": {},
     "output_type": "execute_result"
    }
   ],
   "source": [
    "a = np.random.randint(-20, 21, 10, dtype = np.int8)\n",
    "a"
   ]
  },
  {
   "cell_type": "code",
   "execution_count": 32,
   "metadata": {},
   "outputs": [],
   "source": [
    "def LSS_original(arr):\n",
    "    new_arr = []\n",
    "    for i in range(0, len(arr)):\n",
    "        b =[]\n",
    "        for j in range(i, len(arr)):\n",
    "            b.append(np.sum(arr[j:j+1]))\n",
    "            new_arr.append(b[:])\n",
    "    sum_arr = []\n",
    "    for h in new_arr:\n",
    "        sum_arr.append(sum(h))\n",
    "        indices = [index for index, value in enumerate(sum_arr) if value == max(sum_arr)]\n",
    "    length = [len(new_arr[i]) for i in indices]\n",
    "    p = length.index(max(length))\n",
    "    winner = new_arr[indices[p]]\n",
    "#     print('New Array =' , new_arr )\n",
    "#     return print('Largest Sum =' , max(sum_arr), ', Longest Sequence =' , winner)\n",
    "    return max(sum_arr), winner"
   ]
  },
  {
   "cell_type": "code",
   "execution_count": 38,
   "metadata": {},
   "outputs": [],
   "source": [
    "def lss_final(arr):\n",
    "    subseqs = [arr[i:j+1] for i in range(len(arr)) for j in range(i, len(arr))]\n",
    "    subseq_sums = [sum(h) for h in subseqs]\n",
    "    max_sum = max(subseq_sums)\n",
    "    max_sum_subseqs = [subseq for subseq in subseqs if sum(subseq) == max_sum]\n",
    "    max_length_of_max_sum_subseqs = max([len(subseq) for subseq in max_sum_subseqs])\n",
    "    longest_max_sum_subseq = [subseq for subseq in max_sum_subseqs if len(subseq) == max_length_of_max_sum_subseqs][0]\n",
    "#     return print('Array ', arr, ', Largest Sum =', max_sum, ', Longest Sequence =', longest_max_sum_subseq)\n",
    "    return max_sum, longest_max_sum_subseq"
   ]
  },
  {
   "cell_type": "code",
   "execution_count": 53,
   "metadata": {},
   "outputs": [
    {
     "name": "stdout",
     "output_type": "stream",
     "text": [
      "LSS_original took 89.16619 seconds\n",
      "lss_final took 0.02697 seconds\n",
      "Kadene_extended took 0.00000 seconds\n",
      "Kadene_numba took 0.00000 seconds\n"
     ]
    }
   ],
   "source": [
    "#List of 70 numbers ranging from -20 to 20\n",
    "numbers = np.random.randint(-20, 21, 70)\n",
    "\n",
    "for function in LSS_original, lss_final, Kadene_extended, Kadene_numba:\n",
    "    start_time = time()\n",
    "    function(numbers)\n",
    "    duration = time() - start_time\n",
    "    print(f'{function.__name__} took {duration:0.5f} seconds')"
   ]
  },
  {
   "cell_type": "code",
   "execution_count": 61,
   "metadata": {},
   "outputs": [
    {
     "name": "stdout",
     "output_type": "stream",
     "text": [
      "lss_final took 56.76192 seconds\n",
      "Kadene_extended took 0.00100 seconds\n",
      "Kadene_numba took 0.00000 seconds\n"
     ]
    }
   ],
   "source": [
    "#List of 1000 numbers ranging from -20 to 20\n",
    "numbers = np.random.randint(-20, 21, 1000)\n",
    "\n",
    "for function in lss_final, Kadene_extended, Kadene_numba:\n",
    "    start_time = time()\n",
    "    function(numbers)\n",
    "    duration = time() - start_time\n",
    "    print(f'{function.__name__} took {duration:0.5f} seconds')"
   ]
  },
  {
   "cell_type": "code",
   "execution_count": 69,
   "metadata": {},
   "outputs": [
    {
     "name": "stdout",
     "output_type": "stream",
     "text": [
      "Kadene_extended took 60.80194 seconds\n",
      "Kadene_numba took 0.14814 seconds\n"
     ]
    }
   ],
   "source": [
    "#List of 100_000_000 numbers ranging from -20 to 20\n",
    "numbers = np.random.randint(-20, 21, 100_000_000)\n",
    "\n",
    "for function in Kadene_extended, Kadene_numba:\n",
    "    start_time = time()\n",
    "    function(numbers)\n",
    "    duration = time() - start_time\n",
    "    print(f'{function.__name__} took {duration:0.5f} seconds')"
   ]
  },
  {
   "cell_type": "code",
   "execution_count": 78,
   "metadata": {},
   "outputs": [
    {
     "name": "stdout",
     "output_type": "stream",
     "text": [
      "Kadene_numba took 3.41879 seconds\n"
     ]
    }
   ],
   "source": [
    "#List of 2_000_000_000 numbers ranging from -20 to 20\n",
    "numbers = np.random.randint(-20, 21, 2_000_000_000)\n",
    "\n",
    "start_time = time()\n",
    "Kadene_numba(numbers)\n",
    "duration = time() - start_time\n",
    "print(f'{function.__name__} took {duration:0.5f} seconds')"
   ]
  },
  {
   "cell_type": "code",
   "execution_count": 83,
   "metadata": {},
   "outputs": [
    {
     "name": "stdout",
     "output_type": "stream",
     "text": [
      "340973 486241573\n"
     ]
    }
   ],
   "source": [
    "numbers = np.random.randint(-20, 21, 2_000_000_000)\n",
    "\n",
    "Sum, List = Kadene_numba(numbers)\n",
    "print(Sum, len(List))"
   ]
  },
  {
   "cell_type": "code",
   "execution_count": 11,
   "metadata": {},
   "outputs": [
    {
     "name": "stdout",
     "output_type": "stream",
     "text": [
      "(11, [1, 10])\n",
      "(3, [1, 2, -3, 1, 2])\n"
     ]
    }
   ],
   "source": [
    "A = [4,5,-12,1,10]\n",
    "B = [1,2,-3,1,2]\n",
    "# \n",
    "print(Kadene_extended(A))\n",
    "print(Kadene_extended(B))"
   ]
  }
 ],
 "metadata": {
  "kernelspec": {
   "display_name": "Python 3",
   "language": "python",
   "name": "python3"
  },
  "language_info": {
   "codemirror_mode": {
    "name": "ipython",
    "version": 3
   },
   "file_extension": ".py",
   "mimetype": "text/x-python",
   "name": "python",
   "nbconvert_exporter": "python",
   "pygments_lexer": "ipython3",
   "version": "3.8.5"
  }
 },
 "nbformat": 4,
 "nbformat_minor": 4
}
